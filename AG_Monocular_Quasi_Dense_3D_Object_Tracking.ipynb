{
  "nbformat": 4,
  "nbformat_minor": 0,
  "metadata": {
    "colab": {
      "name": "AG-Monocular Quasi-Dense 3D Object Tracking.ipynb",
      "provenance": [],
      "authorship_tag": "ABX9TyM1VZmcVPi7F0upklsHzEN3",
      "include_colab_link": true
    },
    "kernelspec": {
      "display_name": "Python 3",
      "name": "python3"
    },
    "language_info": {
      "name": "python"
    }
  },
  "cells": [
    {
      "cell_type": "markdown",
      "metadata": {
        "id": "view-in-github",
        "colab_type": "text"
      },
      "source": [
        "<a href=\"https://colab.research.google.com/github/Mmengyw/Capstone-Project/blob/main/AG_Monocular_Quasi_Dense_3D_Object_Tracking.ipynb\" target=\"_parent\"><img src=\"https://colab.research.google.com/assets/colab-badge.svg\" alt=\"Open In Colab\"/></a>"
      ]
    },
    {
      "cell_type": "code",
      "metadata": {
        "colab": {
          "base_uri": "https://localhost:8080/"
        },
        "id": "Ywz91uhMpwLR",
        "outputId": "01d6a520-111a-49f8-c512-8ae3a0c21ee6"
      },
      "source": [
        "!git clone -b main --single-branch https://github.com/SysCV/qd-3dt.git\n",
        "\n"
      ],
      "execution_count": null,
      "outputs": [
        {
          "name": "stdout",
          "output_type": "stream",
          "text": [
            "fatal: destination path 'qd-3dt' already exists and is not an empty directory.\n"
          ]
        }
      ]
    },
    {
      "cell_type": "code",
      "metadata": {
        "id": "wGELgb4RrBHO"
      },
      "source": [
        "!cd qd-3dt/\n",
        "!mkdir data work_dirs checkpoints"
      ],
      "execution_count": null,
      "outputs": []
    },
    {
      "cell_type": "code",
      "metadata": {
        "colab": {
          "background_save": true,
          "base_uri": "https://localhost:8080/"
        },
        "id": "1loBLRQQrK7Q",
        "outputId": "99ff0082-6abd-4839-ac45-eecfddccb4b7"
      },
      "source": [
        "# Add path to bashrc \n",
        "!echo -e '\\nexport PYENV_ROOT=\"$HOME/.pyenv\"\\nexport PATH=\"$PYENV_ROOT/bin:$PATH\"' >> ~/.bashrc\n",
        "!echo -e 'if command -v pyenv 1>/dev/null 2>&1; then\\n  eval \"$(pyenv init -)\"\\nfi' >> ~/.bashrc\n",
        "\n",
        "# Install pyenv\n",
        "!curl -L https://raw.githubusercontent.com/pyenv/pyenv-installer/master/bin/pyenv-installer | bash\n",
        "\n",
        "# Restart a new terminal if \"exec $SHELL\" doesn't work\n",
        "!exec $SHELL\n",
        "\n",
        "# Install and activate Python in pyenv\n",
        "!pyenv install 3.7.6"
      ],
      "execution_count": null,
      "outputs": [
        {
          "name": "stdout",
          "output_type": "stream",
          "text": [
            "  % Total    % Received % Xferd  Average Speed   Time    Time     Time  Current\n",
            "                                 Dload  Upload   Total   Spent    Left  Speed\n",
            "\r  0     0    0     0    0     0      0      0 --:--:-- --:--:-- --:--:--     0\r100  1687  100  1687    0     0  10543      0 --:--:-- --:--:-- --:--:-- 10543\n",
            "\n",
            "\u001b[1mWARNING\u001b[m: Can not proceed with installation. Kindly remove the '/root/.pyenv' directory first.\n",
            "\n",
            "bash: cannot set terminal process group (426): Inappropriate ioctl for device\n",
            "bash: no job control in this shell\n",
            "\u001b[01;34m/content\u001b[00m# \n",
            "\u001b[01;34m/content\u001b[00m# \n",
            "\u001b[01;34m/content\u001b[00m# "
          ]
        }
      ]
    },
    {
      "cell_type": "code",
      "metadata": {
        "id": "5ga6gWEgufcw"
      },
      "source": [
        "pyenv virtualenv 3.7.6 qd_3dt\n",
        "pyenv local qd_3dt"
      ],
      "execution_count": null,
      "outputs": []
    }
  ]
}